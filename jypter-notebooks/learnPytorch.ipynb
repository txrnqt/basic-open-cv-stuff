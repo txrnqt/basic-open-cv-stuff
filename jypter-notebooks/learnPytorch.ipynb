{
 "cells": [
  {
   "cell_type": "markdown",
   "id": "53714291",
   "metadata": {},
   "source": [
    "**imports**"
   ]
  },
  {
   "cell_type": "code",
   "execution_count": 42,
   "id": "76ce54da-f85e-478a-8695-816ca19f2c92",
   "metadata": {},
   "outputs": [],
   "source": [
    "import torch\n",
    "import torchvision\n",
    "import torch.nn\n",
    "import matplotlib.pyplot as plt\n",
    "import numpy as np"
   ]
  },
  {
   "cell_type": "markdown",
   "id": "8837caf1",
   "metadata": {},
   "source": [
    "**const for below demo** "
   ]
  },
  {
   "cell_type": "code",
   "execution_count": 43,
   "id": "d24b0541",
   "metadata": {},
   "outputs": [],
   "source": [
    "W = [[1, 1, 1],\n",
    "    [1.5, 1.5, 1.5],\n",
    "    [2, 2, 2]]\n",
    "\n",
    "# 3x1\n",
    "x = [[6], [7], [8]]\n",
    "\n",
    "# 3x1\n",
    "b = [[1], [1], [1]]\n",
    "\n",
    "# Variable to store output\n",
    "# 3x1\n",
    "y = [[0], [0], [0]]"
   ]
  },
  {
   "cell_type": "markdown",
   "id": "85b8ad4e",
   "metadata": {},
   "source": [
    "**numpy way**\n",
    "\n",
    "makes arrays using the const shown above"
   ]
  },
  {
   "cell_type": "code",
   "execution_count": 44,
   "id": "e44b5b2b",
   "metadata": {},
   "outputs": [],
   "source": [
    "W_np = np.array(W)\n",
    "\n",
    "x_np = np.array(x)"
   ]
  },
  {
   "cell_type": "markdown",
   "id": "2f91f817",
   "metadata": {},
   "source": [
    "faster way to make array\n",
    "\n",
    "make an 3x1 array of only ones"
   ]
  },
  {
   "cell_type": "code",
   "execution_count": 45,
   "id": "85ca6938",
   "metadata": {},
   "outputs": [],
   "source": [
    "b_np = np.ones((3, 1))"
   ]
  },
  {
   "cell_type": "markdown",
   "id": "a13fde86",
   "metadata": {},
   "source": [
    "computes output using numpy"
   ]
  },
  {
   "cell_type": "code",
   "execution_count": 46,
   "id": "bc6e57cb",
   "metadata": {},
   "outputs": [],
   "source": [
    "output = np.matmul(W_np, x_np) + b_np"
   ]
  },
  {
   "cell_type": "markdown",
   "id": "10f5f28b",
   "metadata": {},
   "source": [
    "lets print the result"
   ]
  },
  {
   "cell_type": "code",
   "execution_count": 47,
   "id": "5130c7ce",
   "metadata": {},
   "outputs": [
    {
     "name": "stdout",
     "output_type": "stream",
     "text": [
      "Output:\n",
      " [[22. ]\n",
      " [32.5]\n",
      " [43. ]]\n",
      "Output shape:\n",
      " (3, 1)\n"
     ]
    }
   ],
   "source": [
    "print(\"Output:\\n\", output)\n",
    "print(\"Output shape:\\n\", output.shape)\n"
   ]
  },
  {
   "cell_type": "markdown",
   "id": "e888cd3d",
   "metadata": {},
   "source": [
    "**Now PyTorch**"
   ]
  },
  {
   "cell_type": "code",
   "execution_count": 48,
   "id": "b7195753",
   "metadata": {},
   "outputs": [],
   "source": [
    "W_torch = torch.FloatTensor(W)\n",
    "x_torch = torch.FloatTensor(x)\n",
    "\n",
    "b_torch = torch.ones(3, 1) #<-- i like this more no nested list\n",
    "\n",
    "output = torch.matmul(W_torch, x_torch) + b_torch"
   ]
  },
  {
   "cell_type": "markdown",
   "id": "6fedaf62",
   "metadata": {},
   "source": [
    "lets print the results"
   ]
  },
  {
   "cell_type": "code",
   "execution_count": 49,
   "id": "36cd223b",
   "metadata": {},
   "outputs": [
    {
     "name": "stdout",
     "output_type": "stream",
     "text": [
      "Output:\n",
      " tensor([[22.0000],\n",
      "        [32.5000],\n",
      "        [43.0000]])\n",
      "Output shape:\n",
      " torch.Size([3, 1])\n"
     ]
    }
   ],
   "source": [
    "print(\"Output:\\n\", output)\n",
    "print(\"Output shape:\\n\", output.shape)"
   ]
  },
  {
   "cell_type": "markdown",
   "id": "5f5432bd",
   "metadata": {},
   "source": [
    "PyTorch was made with a lot of simallar functions as numpy to ease the transfer to it \n",
    "\n",
    "many of the functions from each import are able to be used with each other as shown below"
   ]
  },
  {
   "cell_type": "code",
   "execution_count": 50,
   "id": "beea1cf3",
   "metadata": {},
   "outputs": [],
   "source": [
    "np_array = np.random.random((3,4))"
   ]
  },
  {
   "cell_type": "markdown",
   "id": "2c7d5f27",
   "metadata": {},
   "source": [
    "now im gonna convert to a PyTorch tensor"
   ]
  },
  {
   "cell_type": "code",
   "execution_count": 51,
   "id": "93b43697",
   "metadata": {},
   "outputs": [],
   "source": [
    "torch_tensor = torch.FloatTensor(np_array)"
   ]
  },
  {
   "cell_type": "markdown",
   "id": "a3177a93",
   "metadata": {},
   "source": [
    "now back to a np array"
   ]
  },
  {
   "cell_type": "code",
   "execution_count": 52,
   "id": "ffd79da6",
   "metadata": {},
   "outputs": [],
   "source": [
    "np_array2 = torch_tensor.numpy()"
   ]
  },
  {
   "cell_type": "markdown",
   "id": "1c50bd73",
   "metadata": {},
   "source": [
    "lets print the results"
   ]
  },
  {
   "cell_type": "code",
   "execution_count": 53,
   "id": "7afb4595",
   "metadata": {},
   "outputs": [
    {
     "name": "stdout",
     "output_type": "stream",
     "text": [
      "Numpy array: \n",
      " [[0.00758165 0.45707014 0.5714444  0.3101216 ]\n",
      " [0.6052448  0.8700822  0.17943552 0.7085888 ]\n",
      " [0.7872151  0.44141665 0.21038875 0.36815923]]\n",
      "Tensor: \n",
      " tensor([[0.0076, 0.4571, 0.5714, 0.3101],\n",
      "        [0.6052, 0.8701, 0.1794, 0.7086],\n",
      "        [0.7872, 0.4414, 0.2104, 0.3682]])\n"
     ]
    }
   ],
   "source": [
    "print(\"Numpy array: \\n\", np_array2)\n",
    "print(\"Tensor: \\n\", torch_tensor)"
   ]
  },
  {
   "cell_type": "markdown",
   "id": "aa79df6a",
   "metadata": {},
   "source": [
    "**just pytorch now**\n",
    "\n",
    "2d tensor with random"
   ]
  },
  {
   "cell_type": "code",
   "execution_count": 54,
   "id": "76cbb6bb",
   "metadata": {},
   "outputs": [
    {
     "name": "stdout",
     "output_type": "stream",
     "text": [
      "1D tensor \n",
      " tensor([[0.1804, 0.7949, 0.1835, 0.6104, 0.4437],\n",
      "        [0.5266, 0.8692, 0.3603, 0.5641, 0.3395],\n",
      "        [0.7823, 0.9499, 0.6799, 0.1660, 0.8330],\n",
      "        [0.4939, 0.4465, 0.1734, 0.0952, 0.6535]])\n"
     ]
    }
   ],
   "source": [
    "x = torch.rand(4, 5)\n",
    "\n",
    "print('1D tensor \\n', x)"
   ]
  },
  {
   "cell_type": "markdown",
   "id": "a5a0c479",
   "metadata": {},
   "source": [
    "scalar arithmetic on tensors"
   ]
  },
  {
   "cell_type": "code",
   "execution_count": 55,
   "id": "012800b4",
   "metadata": {},
   "outputs": [
    {
     "name": "stdout",
     "output_type": "stream",
     "text": [
      "scalar multiplication\n",
      " tensor([[1.8044, 7.9490, 1.8349, 6.1037, 4.4370],\n",
      "        [5.2659, 8.6920, 3.6030, 5.6406, 3.3950],\n",
      "        [7.8228, 9.4986, 6.7989, 1.6596, 8.3302],\n",
      "        [4.9394, 4.4650, 1.7340, 0.9523, 6.5354]])\n",
      "addtion and square\n",
      " tensor([[4.7543, 7.8115, 4.7676, 6.8140, 5.9717],\n",
      "        [6.3837, 8.2323, 5.5710, 6.5744, 5.4733],\n",
      "        [7.7411, 8.7017, 7.1818, 4.6914, 8.0260],\n",
      "        [6.2197, 5.9854, 4.7237, 4.3900, 7.0413]])\n",
      "division\n",
      " tensor([[0.0180, 0.0795, 0.0183, 0.0610, 0.0444],\n",
      "        [0.0527, 0.0869, 0.0360, 0.0564, 0.0340],\n",
      "        [0.0782, 0.0950, 0.0680, 0.0166, 0.0833],\n",
      "        [0.0494, 0.0447, 0.0173, 0.0095, 0.0654]])\n"
     ]
    }
   ],
   "source": [
    "print('scalar multiplication\\n', x * 10)\n",
    "print('addtion and square\\n', (x + 2)**2)\n",
    "print('division\\n', x / 10)"
   ]
  },
  {
   "cell_type": "markdown",
   "id": "96562212",
   "metadata": {},
   "source": [
    "mixing normal python functions"
   ]
  },
  {
   "cell_type": "code",
   "execution_count": 56,
   "id": "f12afd7c",
   "metadata": {},
   "outputs": [
    {
     "name": "stdout",
     "output_type": "stream",
     "text": [
      "power and squar root\n",
      " tensor([[0.1804, 0.7949, 0.1835, 0.6104, 0.4437],\n",
      "        [0.5266, 0.8692, 0.3603, 0.5641, 0.3395],\n",
      "        [0.7823, 0.9499, 0.6799, 0.1660, 0.8330],\n",
      "        [0.4939, 0.4465, 0.1734, 0.0952, 0.6535]])\n"
     ]
    }
   ],
   "source": [
    "print('power and squar root\\n', torch.sqrt(x**2))"
   ]
  },
  {
   "cell_type": "markdown",
   "id": "10ff9692",
   "metadata": {},
   "source": [
    "tensors are objects and have functions"
   ]
  },
  {
   "cell_type": "code",
   "execution_count": 57,
   "id": "94a9f645",
   "metadata": {},
   "outputs": [
    {
     "name": "stdout",
     "output_type": "stream",
     "text": [
      "\n",
      "Y -\n",
      " Min:0.10\n",
      " Max:0.95\n",
      " Standard Deviation:0.26\n",
      " Sum:10.15\n"
     ]
    }
   ],
   "source": [
    "print(\"\\nY -\\n Min:%.2f\\n Max:%.2f\\n Standard Deviation:%.2f\\n Sum:%.2f\" %(x.min(), x.max(), x.std(), x.sum()))"
   ]
  },
  {
   "cell_type": "markdown",
   "id": "aa154a99",
   "metadata": {},
   "source": [
    "**tensor operations**\n",
    "\n",
    "2 random 3d tensors"
   ]
  },
  {
   "cell_type": "code",
   "execution_count": 58,
   "id": "ee94a926",
   "metadata": {},
   "outputs": [],
   "source": [
    "t1 = torch.rand(3,3,3)\n",
    "t2 = torch.rand(3,3,3)"
   ]
  },
  {
   "cell_type": "markdown",
   "id": "0d855d16",
   "metadata": {},
   "source": [
    "adding tensors"
   ]
  },
  {
   "cell_type": "code",
   "execution_count": null,
   "id": "10d24dff",
   "metadata": {},
   "outputs": [
    {
     "name": "stdout",
     "output_type": "stream",
     "text": [
      "addition\n",
      " tensor([[[1.0744, 0.4195, 1.3078],\n",
      "         [1.5593, 0.9498, 1.2020],\n",
      "         [0.8615, 1.2706, 1.0062]],\n",
      "\n",
      "        [[0.5001, 0.7288, 0.6859],\n",
      "         [0.9863, 1.0674, 1.6738],\n",
      "         [1.3331, 0.4004, 1.0373]],\n",
      "\n",
      "        [[1.0713, 1.3890, 0.4545],\n",
      "         [1.2410, 1.0450, 1.7190],\n",
      "         [0.9386, 1.8956, 0.9551]]])\n"
     ]
    }
   ],
   "source": [
    "print('addition\\n', t1+t2)"
   ]
  },
  {
   "cell_type": "markdown",
   "id": "fee97317",
   "metadata": {},
   "source": [
    "**matrix multiplication cannot be done on 3D tensors**\n",
    "\n",
    "you will need to treat the tensors as a batch (like a stack) of 2D tensors\n",
    "this will let you preform matrix multiplication"
   ]
  },
  {
   "cell_type": "code",
   "execution_count": null,
   "id": "a2dfdcd1",
   "metadata": {},
   "outputs": [],
   "source": [
    "print(\"batch multiplation\\n\", torch.bmm(t1, t2))"
   ]
  }
 ],
 "metadata": {
  "kernelspec": {
   "display_name": "Python 3 (ipykernel)",
   "language": "python",
   "name": "python3"
  },
  "language_info": {
   "codemirror_mode": {
    "name": "ipython",
    "version": 3
   },
   "file_extension": ".py",
   "mimetype": "text/x-python",
   "name": "python",
   "nbconvert_exporter": "python",
   "pygments_lexer": "ipython3",
   "version": "3.13.3"
  }
 },
 "nbformat": 4,
 "nbformat_minor": 5
}
